{
 "cells": [
  {
   "cell_type": "code",
   "execution_count": 1,
   "id": "11120536",
   "metadata": {},
   "outputs": [],
   "source": [
    "import pandas as pd\n",
    "import numpy as np\n",
    "from sklearn.model_selection import train_test_split\n",
    "from sklearn.preprocessing import LabelEncoder, StandardScaler\n",
    "from imblearn.over_sampling import RandomOverSampler\n",
    "import torch\n",
    "import torch.nn as nn\n",
    "import torch.optim as optim\n",
    "from torch.utils.data import TensorDataset, DataLoader"
   ]
  },
  {
   "cell_type": "code",
   "execution_count": 5,
   "id": "0d0d5c53",
   "metadata": {},
   "outputs": [
    {
     "name": "stdout",
     "output_type": "stream",
     "text": [
      "🟢 Using device: cuda\n"
     ]
    }
   ],
   "source": [
    "device = torch.device(\"cuda\" if torch.cuda.is_available() else \"cpu\")\n",
    "print(f\"🟢 Using device: {device}\")"
   ]
  },
  {
   "cell_type": "code",
   "execution_count": 2,
   "id": "385381e8",
   "metadata": {},
   "outputs": [],
   "source": [
    "cols = [\n",
    "    \"loan_id\", \"dependents\", \"education\", \"self_employed\", \"imcome_annum\",\n",
    "    \"loan_amount\", \"loan_term\", \"cibil_score\", \"residential_assets_value\",\n",
    "    \"commercial_assets_value\", \"luxury_assets_value\", \"bank_asset_value\", \"status\"\n",
    "]\n",
    "\n",
    "df = pd.read_csv(\"loan_approval_dataset_processed.csv\", names=cols, header=0)"
   ]
  },
  {
   "cell_type": "code",
   "execution_count": 3,
   "id": "af453a61",
   "metadata": {},
   "outputs": [],
   "source": [
    "if \"loan_id\" in df.columns:\n",
    "    df = df.drop(\"loan_id\", axis=1)"
   ]
  },
  {
   "cell_type": "code",
   "execution_count": 4,
   "id": "dba1e697",
   "metadata": {},
   "outputs": [],
   "source": [
    "label_enc = LabelEncoder()\n",
    "df[\"education\"] = label_enc.fit_transform(df[\"education\"])\n",
    "df[\"self_employed\"] = label_enc.fit_transform(df[\"self_employed\"])"
   ]
  },
  {
   "cell_type": "code",
   "execution_count": 6,
   "id": "4027ab95",
   "metadata": {},
   "outputs": [],
   "source": [
    "X = df.drop(\"status\", axis=1)\n",
    "y = df[\"status\"]\n"
   ]
  },
  {
   "cell_type": "code",
   "execution_count": 7,
   "id": "89a657b6",
   "metadata": {},
   "outputs": [],
   "source": [
    "ros = RandomOverSampler(random_state=42)\n",
    "X_res, y_res = ros.fit_resample(X, y)\n"
   ]
  },
  {
   "cell_type": "code",
   "execution_count": 8,
   "id": "e4febbe8",
   "metadata": {},
   "outputs": [],
   "source": [
    "scaler = StandardScaler()\n",
    "X_scaled = scaler.fit_transform(X_res)"
   ]
  },
  {
   "cell_type": "code",
   "execution_count": 9,
   "id": "a332662b",
   "metadata": {},
   "outputs": [],
   "source": [
    "X_train, X_test, y_train, y_test = train_test_split(\n",
    "    X_scaled, y_res, test_size=0.2, random_state=42\n",
    ")"
   ]
  },
  {
   "cell_type": "code",
   "execution_count": 10,
   "id": "5b9b7f75",
   "metadata": {},
   "outputs": [],
   "source": [
    "X_train_tensor = torch.tensor(X_train, dtype=torch.float32).to(device)\n",
    "y_train_tensor = torch.tensor(y_train.values, dtype=torch.float32).view(-1, 1).to(device)\n",
    "X_test_tensor = torch.tensor(X_test, dtype=torch.float32).to(device)\n",
    "y_test_tensor = torch.tensor(y_test.values, dtype=torch.float32).view(-1, 1).to(device)"
   ]
  },
  {
   "cell_type": "code",
   "execution_count": 11,
   "id": "cd97684b",
   "metadata": {},
   "outputs": [],
   "source": [
    "class LoanNN(nn.Module):\n",
    "    def __init__(self, input_dim):\n",
    "        super(LoanNN, self).__init__()\n",
    "        self.network = nn.Sequential(\n",
    "            nn.Linear(input_dim, 64),\n",
    "            nn.ReLU(),\n",
    "            nn.Dropout(0.3),\n",
    "            nn.Linear(64, 32),\n",
    "            nn.ReLU(),\n",
    "            nn.Linear(32, 1),\n",
    "            nn.Sigmoid()\n",
    "        )\n",
    "\n",
    "    def forward(self, x):\n",
    "        return self.network(x)"
   ]
  },
  {
   "cell_type": "code",
   "execution_count": 12,
   "id": "675a4795",
   "metadata": {},
   "outputs": [],
   "source": [
    "model = LoanNN(X_train.shape[1]).to(device)"
   ]
  },
  {
   "cell_type": "code",
   "execution_count": 13,
   "id": "708d4713",
   "metadata": {},
   "outputs": [],
   "source": [
    "criterion = nn.BCELoss()\n",
    "optimizer = optim.Adam(model.parameters(), lr=0.001)"
   ]
  },
  {
   "cell_type": "code",
   "execution_count": 14,
   "id": "5e5d9c90",
   "metadata": {},
   "outputs": [],
   "source": [
    "train_dataset = TensorDataset(X_train_tensor, y_train_tensor)\n",
    "train_loader = DataLoader(train_dataset, batch_size=64, shuffle=True)"
   ]
  },
  {
   "cell_type": "code",
   "execution_count": 15,
   "id": "0548da3e",
   "metadata": {},
   "outputs": [
    {
     "name": "stdout",
     "output_type": "stream",
     "text": [
      "Epoch [1/50], Loss: 0.5709\n",
      "Epoch [2/50], Loss: 0.3060\n",
      "Epoch [3/50], Loss: 0.2366\n",
      "Epoch [4/50], Loss: 0.2171\n",
      "Epoch [5/50], Loss: 0.2062\n",
      "Epoch [6/50], Loss: 0.1905\n",
      "Epoch [7/50], Loss: 0.1805\n",
      "Epoch [8/50], Loss: 0.1739\n",
      "Epoch [9/50], Loss: 0.1665\n",
      "Epoch [10/50], Loss: 0.1655\n",
      "Epoch [11/50], Loss: 0.1569\n",
      "Epoch [12/50], Loss: 0.1531\n",
      "Epoch [13/50], Loss: 0.1425\n",
      "Epoch [14/50], Loss: 0.1436\n",
      "Epoch [15/50], Loss: 0.1391\n",
      "Epoch [16/50], Loss: 0.1371\n",
      "Epoch [17/50], Loss: 0.1324\n",
      "Epoch [18/50], Loss: 0.1512\n",
      "Epoch [19/50], Loss: 0.1199\n",
      "Epoch [20/50], Loss: 0.1242\n",
      "Epoch [21/50], Loss: 0.1220\n",
      "Epoch [22/50], Loss: 0.1399\n",
      "Epoch [23/50], Loss: 0.1141\n",
      "Epoch [24/50], Loss: 0.1145\n",
      "Epoch [25/50], Loss: 0.1061\n",
      "Epoch [26/50], Loss: 0.1063\n",
      "Epoch [27/50], Loss: 0.1037\n",
      "Epoch [28/50], Loss: 0.1050\n",
      "Epoch [29/50], Loss: 0.1052\n",
      "Epoch [30/50], Loss: 0.0979\n",
      "Epoch [31/50], Loss: 0.0952\n",
      "Epoch [32/50], Loss: 0.0935\n",
      "Epoch [33/50], Loss: 0.0937\n",
      "Epoch [34/50], Loss: 0.0891\n",
      "Epoch [35/50], Loss: 0.0879\n",
      "Epoch [36/50], Loss: 0.0911\n",
      "Epoch [37/50], Loss: 0.0869\n",
      "Epoch [38/50], Loss: 0.0830\n",
      "Epoch [39/50], Loss: 0.0838\n",
      "Epoch [40/50], Loss: 0.0826\n",
      "Epoch [41/50], Loss: 0.0785\n",
      "Epoch [42/50], Loss: 0.0812\n",
      "Epoch [43/50], Loss: 0.0765\n",
      "Epoch [44/50], Loss: 0.0735\n",
      "Epoch [45/50], Loss: 0.0749\n",
      "Epoch [46/50], Loss: 0.0746\n",
      "Epoch [47/50], Loss: 0.0727\n",
      "Epoch [48/50], Loss: 0.0709\n",
      "Epoch [49/50], Loss: 0.0709\n",
      "Epoch [50/50], Loss: 0.0689\n"
     ]
    }
   ],
   "source": [
    "epochs = 50\n",
    "for epoch in range(epochs):\n",
    "    model.train()\n",
    "    epoch_loss = 0.0\n",
    "    for batch_X, batch_y in train_loader:\n",
    "        optimizer.zero_grad()\n",
    "        outputs = model(batch_X)\n",
    "        loss = criterion(outputs, batch_y)\n",
    "        loss.backward()\n",
    "        optimizer.step()\n",
    "        epoch_loss += loss.item()\n",
    "    print(f\"Epoch [{epoch+1}/{epochs}], Loss: {epoch_loss/len(train_loader):.4f}\")"
   ]
  },
  {
   "cell_type": "code",
   "execution_count": 17,
   "id": "72af0eeb",
   "metadata": {},
   "outputs": [
    {
     "name": "stdout",
     "output_type": "stream",
     "text": [
      "              precision    recall  f1-score   support\n",
      "\n",
      "    Rejected       0.98      0.96      0.97       561\n",
      "    Approved       0.96      0.98      0.97       502\n",
      "\n",
      "    accuracy                           0.97      1063\n",
      "   macro avg       0.97      0.97      0.97      1063\n",
      "weighted avg       0.97      0.97      0.97      1063\n",
      "\n"
     ]
    }
   ],
   "source": [
    "from sklearn.metrics import classification_report\n",
    "\n",
    "# Set model to evaluation mode\n",
    "model.eval()\n",
    "\n",
    "# Disable gradient calculation for evaluation\n",
    "with torch.no_grad():\n",
    "    # Get predictions on the test set\n",
    "    y_pred_probs = model(X_test_tensor)\n",
    "    y_pred = (y_pred_probs >= 0.5).float()  # Convert probabilities to 0 or 1\n",
    "\n",
    "# Move tensors to CPU before converting to numpy\n",
    "y_true_np = y_test_tensor.cpu().numpy()\n",
    "y_pred_np = y_pred.cpu().numpy()\n",
    "\n",
    "# Print classification report\n",
    "print(classification_report(y_true_np, y_pred_np, target_names=[\"Rejected\", \"Approved\"]))\n"
   ]
  },
  {
   "cell_type": "code",
   "execution_count": 18,
   "id": "5d506cbe",
   "metadata": {},
   "outputs": [
    {
     "name": "stdout",
     "output_type": "stream",
     "text": [
      "\n",
      "✅ Neural network trained on GPU and saved as 'loan_nn_model_gpu.pth'.\n"
     ]
    }
   ],
   "source": [
    "torch.save({\n",
    "    \"model_state_dict\": model.state_dict(),\n",
    "    \"scaler\": scaler,\n",
    "    \"label_enc\": label_enc\n",
    "}, \"loan_nn_model_gpu.pth\")\n",
    "\n",
    "print(\"\\n✅ Neural network trained on GPU and saved as 'loan_nn_model_gpu.pth'.\")"
   ]
  }
 ],
 "metadata": {
  "kernelspec": {
   "display_name": "Loan",
   "language": "python",
   "name": "python3"
  },
  "language_info": {
   "codemirror_mode": {
    "name": "ipython",
    "version": 3
   },
   "file_extension": ".py",
   "mimetype": "text/x-python",
   "name": "python",
   "nbconvert_exporter": "python",
   "pygments_lexer": "ipython3",
   "version": "3.12.4"
  }
 },
 "nbformat": 4,
 "nbformat_minor": 5
}
